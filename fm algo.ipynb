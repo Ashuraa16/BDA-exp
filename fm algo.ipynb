{
 "cells": [
  {
   "cell_type": "code",
   "execution_count": 5,
   "metadata": {
    "colab": {
     "base_uri": "https://localhost:8080/"
    },
    "executionInfo": {
     "elapsed": 415,
     "status": "ok",
     "timestamp": 1668192066741,
     "user": {
      "displayName": "Samruddhi Bhosale",
      "userId": "11002191305145460416"
     },
     "user_tz": -330
    },
    "id": "KzLg41rLxmqB",
    "outputId": "233ed2e1-7070-45e7-9253-7b3e1bb9e369"
   },
   "outputs": [
    {
     "name": "stdout",
     "output_type": "stream",
     "text": [
      "Using Flajolet Martin Algorithm:\n",
      "111 0\n",
      "Distinct elements: 1\n"
     ]
    }
   ],
   "source": [
    "stream=[1,2,3,4,5,6,4,2,5,9,1,6,3,2,1]\n",
    "def fm(stream):\n",
    "  print('Using Flajolet Martin Algorithm:')       \n",
    "  maxnum=0\n",
    "  for i in range(0,len(stream)):\n",
    "      val= bin((1*stream[i] + 6) % 32)[2:]\n",
    "\n",
    "      sum=0\n",
    "  for j in range(len(val)-1,0,-1):\n",
    "\n",
    "      if val[j]=='0':\n",
    "          sum+=1\n",
    "      else:\n",
    "          break\n",
    "  print(val,sum)\n",
    "  maxnum=max(maxnum,sum)\n",
    "  print('Distinct elements:',2**maxnum)\n",
    "\n",
    "fm(stream)\n",
    "\n",
    "\n",
    "\n"
   ]
  }
 ],
 "metadata": {
  "colab": {
   "authorship_tag": "ABX9TyPNdWSQSUkYNBcJvs9ZlQJ/",
   "provenance": []
  },
  "kernelspec": {
   "display_name": "Python 3 (ipykernel)",
   "language": "python",
   "name": "python3"
  },
  "language_info": {
   "codemirror_mode": {
    "name": "ipython",
    "version": 3
   },
   "file_extension": ".py",
   "mimetype": "text/x-python",
   "name": "python",
   "nbconvert_exporter": "python",
   "pygments_lexer": "ipython3",
   "version": "3.9.13"
  }
 },
 "nbformat": 4,
 "nbformat_minor": 1
}
