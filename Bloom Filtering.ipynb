{
 "cells": [
  {
   "cell_type": "code",
   "execution_count": 1,
   "id": "2e09f22b",
   "metadata": {},
   "outputs": [
    {
     "name": "stdout",
     "output_type": "stream",
     "text": [
      "Size of bit array:124\n",
      "False positive Probability:0.05\n",
      "Number of hash functions:4\n",
      "'abundance' is probably present!\n",
      "'bluff' is definitely not present!\n",
      "'abounds' is probably present!\n",
      "'abound' is probably present!\n",
      "'cheater' is definitely not present!\n"
     ]
    }
   ],
   "source": [
    "import math\n",
    "import mmh3\n",
    "from bitarray import bitarray\n",
    "from random import shuffle\n",
    "class BloomFilter(object):\n",
    "    def __init__(self, items_count, fp_prob):\n",
    "        self.fp_prob = fp_prob\n",
    "        self.size = self.get_size(items_count, fp_prob)\n",
    "        self.hash_count = self.get_hash_count(self.size, items_count)\n",
    "        self.bit_array = bitarray(self.size)\n",
    "        self.bit_array.setall(0)\n",
    "    def add(self, item):\n",
    "        digests = []\n",
    "        for i in range(self.hash_count):\n",
    "            digest = mmh3.hash(item, i) % self.size\n",
    "            digests.append(digest)\n",
    "            self.bit_array[digest] = True\n",
    "    def check(self, item):\n",
    "        for i in range(self.hash_count):\n",
    "            digest = mmh3.hash(item, i) % self.size\n",
    "            if self.bit_array[digest] == False:\n",
    "                return False\n",
    "        return True\n",
    "    def get_size(self, n, p):\n",
    "        m = -(n * math.log(p))/(math.log(2)**2)\n",
    "        return int(m)\n",
    "    def get_hash_count(self, m, n):\n",
    "        k = (m/n) * math.log(2)\n",
    "        return int(k)\n",
    "bloomf = BloomFilter(20, 0.05)\n",
    "print(\"Size of bit array:{}\".format(bloomf.size))\n",
    "print(\"False positive Probability:{}\".format(bloomf.fp_prob))\n",
    "print(\"Number of hash functions:{}\".format(bloomf.hash_count))\n",
    "word_present = ['abound', 'abounds', 'abundance']\n",
    "word_absent = ['bluff', 'cheater']\n",
    "for item in word_present:\n",
    "    bloomf.add(item)\n",
    "shuffle(word_present)\n",
    "shuffle(word_absent)\n",
    "test_words = word_present[:10] + word_absent\n",
    "shuffle(test_words)\n",
    "for word in test_words:\n",
    "    if bloomf.check(word):\n",
    "        if word in word_absent:\n",
    "            print(\"'{}' is a false positive!\".format(word))\n",
    "        else:\n",
    "            print(\"'{}' is probably present!\".format(word))\n",
    "    else:\n",
    "        print(\"'{}' is definitely not present!\".format(word))\n",
    "\n"
   ]
  },
  {
   "cell_type": "code",
   "execution_count": null,
   "id": "eeb84384",
   "metadata": {},
   "outputs": [],
   "source": []
  }
 ],
 "metadata": {
  "kernelspec": {
   "display_name": "Python 3 (ipykernel)",
   "language": "python",
   "name": "python3"
  },
  "language_info": {
   "codemirror_mode": {
    "name": "ipython",
    "version": 3
   },
   "file_extension": ".py",
   "mimetype": "text/x-python",
   "name": "python",
   "nbconvert_exporter": "python",
   "pygments_lexer": "ipython3",
   "version": "3.9.13"
  }
 },
 "nbformat": 4,
 "nbformat_minor": 5
}
